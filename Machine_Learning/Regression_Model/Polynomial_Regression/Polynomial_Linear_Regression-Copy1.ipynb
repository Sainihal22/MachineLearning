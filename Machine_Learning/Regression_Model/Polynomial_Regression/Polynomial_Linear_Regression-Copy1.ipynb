{
 "cells": [
  {
   "cell_type": "code",
   "execution_count": 1,
   "id": "1d9d8cba",
   "metadata": {},
   "outputs": [],
   "source": [
    "import numpy as np\n",
    "import pandas as pd\n",
    "import matplotlib.pyplot as plt"
   ]
  },
  {
   "cell_type": "code",
   "execution_count": 4,
   "id": "3a5798b7",
   "metadata": {},
   "outputs": [
    {
     "name": "stdout",
     "output_type": "stream",
     "text": [
      "[[ 1]\n",
      " [ 2]\n",
      " [ 3]\n",
      " [ 4]\n",
      " [ 5]\n",
      " [ 6]\n",
      " [ 7]\n",
      " [ 8]\n",
      " [ 9]\n",
      " [10]]\n",
      "\n",
      "[[  45000]\n",
      " [  50000]\n",
      " [  60000]\n",
      " [  80000]\n",
      " [ 110000]\n",
      " [ 150000]\n",
      " [ 200000]\n",
      " [ 300000]\n",
      " [ 500000]\n",
      " [1000000]]\n"
     ]
    }
   ],
   "source": [
    "Data = pd.read_csv('Position_Salaries.csv')\n",
    "X = Data.iloc[:, 1:-1].values\n",
    "Y = Data.iloc[:,-1].values\n",
    "Y = Y.reshape(-1, 1)\n",
    "print(X) \n",
    "print()\n",
    "print(Y)"
   ]
  },
  {
   "cell_type": "code",
   "execution_count": 5,
   "id": "085e295f",
   "metadata": {},
   "outputs": [],
   "source": [
    "# Feature Scaling\n",
    "from sklearn.preprocessing import StandardScaler\n",
    "sc_x = StandardScaler()               # not using same scalar method because mean and sd are different\n",
    "sc_y = StandardScaler()\n",
    "X = sc_x.fit_transform(X)\n",
    "Y = sc_y.fit_transform(Y)"
   ]
  },
  {
   "cell_type": "code",
   "execution_count": 6,
   "id": "a631a31c",
   "metadata": {},
   "outputs": [
    {
     "data": {
      "text/plain": [
       "LinearRegression()"
      ]
     },
     "execution_count": 6,
     "metadata": {},
     "output_type": "execute_result"
    }
   ],
   "source": [
    "# Linear Regression Model whole dataset\n",
    "from sklearn.linear_model import LinearRegression\n",
    "linreg = LinearRegression()\n",
    "linreg.fit(X,Y)"
   ]
  },
  {
   "cell_type": "code",
   "execution_count": 7,
   "id": "88565edc",
   "metadata": {},
   "outputs": [
    {
     "data": {
      "text/plain": [
       "LinearRegression()"
      ]
     },
     "execution_count": 7,
     "metadata": {},
     "output_type": "execute_result"
    }
   ],
   "source": [
    "# Polynomial Linear Regression Model whole dataset\n",
    "from sklearn.preprocessing import PolynomialFeatures  # for creating powered variables\n",
    "polyreg = PolynomialFeatures(degree=4)\n",
    "X_poly = polyreg.fit_transform(X)\n",
    "linreg_poly = LinearRegression()\n",
    "linreg_poly.fit(X_poly, Y)"
   ]
  },
  {
   "cell_type": "code",
   "execution_count": 8,
   "id": "620e3c88",
   "metadata": {},
   "outputs": [
    {
     "data": {
      "image/png": "[encoded data removed]",
      "text/plain": [
       "<Figure size 432x288 with 1 Axes>"
      ]
     },
     "metadata": {
      "needs_background": "light"
     },
     "output_type": "display_data"
    }
   ],
   "source": [
    "# Visualizing Linear Regression results\n",
    "plt.scatter(X, Y, color='red')\n",
    "plt.plot(X, linreg.predict(X), color='blue')\n",
    "plt.title(\"Truth or Bluff (Linear Regression Model)\")\n",
    "plt.xlabel(\"Position Label\")\n",
    "plt.ylabel(\"Salary\")\n",
    "plt.show()"
   ]
  },
  {
   "cell_type": "code",
   "execution_count": 11,
   "id": "d6f312f6",
   "metadata": {},
   "outputs": [
    {
     "data": {
      "image/png": "[encoded data removed]",
      "text/plain": [
       "<Figure size 432x288 with 1 Axes>"
      ]
     },
     "metadata": {
      "needs_background": "light"
     },
     "output_type": "display_data"
    }
   ],
   "source": [
    "# Visualizing Polynomial Linear Regression results\n",
    "# Visualizing Linear Regression results\n",
    "plt.scatter(X, Y, color='red')\n",
    "plt.plot(X, linreg_poly.predict(X_poly), color='blue')\n",
    "plt.title(\"        Truth or Bluff (Polynomial Linear Regression Model)\")\n",
    "plt.xlabel(\"Position Label\")\n",
    "plt.ylabel(\"Salary\")\n",
    "plt.show()"
   ]
  },
  {
   "cell_type": "code",
   "execution_count": 12,
   "id": "e243c259",
   "metadata": {},
   "outputs": [
    {
     "data": {
      "text/plain": [
       "array([[ 1.00000000e+00, -1.56669890e+00,  2.45454545e+00,\n",
       "        -3.84553367e+00,  6.02479339e+00],\n",
       "       [ 1.00000000e+00, -1.21854359e+00,  1.48484848e+00,\n",
       "        -1.80935261e+00,  2.20477502e+00],\n",
       "       [ 1.00000000e+00, -8.70388280e-01,  7.57575758e-01,\n",
       "        -6.59385060e-01,  5.73921028e-01],\n",
       "       [ 1.00000000e+00, -5.22232968e-01,  2.72727273e-01,\n",
       "        -1.42427173e-01,  7.43801653e-02],\n",
       "       [ 1.00000000e+00, -1.74077656e-01,  3.03030303e-02,\n",
       "        -5.27508048e-03,  9.18273646e-04],\n",
       "       [ 1.00000000e+00,  1.74077656e-01,  3.03030303e-02,\n",
       "         5.27508048e-03,  9.18273646e-04],\n",
       "       [ 1.00000000e+00,  5.22232968e-01,  2.72727273e-01,\n",
       "         1.42427173e-01,  7.43801653e-02],\n",
       "       [ 1.00000000e+00,  8.70388280e-01,  7.57575758e-01,\n",
       "         6.59385060e-01,  5.73921028e-01],\n",
       "       [ 1.00000000e+00,  1.21854359e+00,  1.48484848e+00,\n",
       "         1.80935261e+00,  2.20477502e+00],\n",
       "       [ 1.00000000e+00,  1.56669890e+00,  2.45454545e+00,\n",
       "         3.84553367e+00,  6.02479339e+00]])"
      ]
     },
     "execution_count": 12,
     "metadata": {},
     "output_type": "execute_result"
    }
   ],
   "source": [
    "X_poly"
   ]
  },
  {
   "cell_type": "code",
   "execution_count": 20,
   "id": "913b1a07",
   "metadata": {},
   "outputs": [
    {
     "data": {
      "text/plain": [
       "array([[1759493.10717371]])"
      ]
     },
     "execution_count": 20,
     "metadata": {},
     "output_type": "execute_result"
    }
   ],
   "source": [
    "# Predicting new result with Linear Regression\n",
    "sc_y.inverse_transform(linreg.predict([[6.5]]))"
   ]
  },
  {
   "cell_type": "code",
   "execution_count": 24,
   "id": "07cce24d",
   "metadata": {},
   "outputs": [
    {
     "data": {
      "text/plain": [
       "array([[477.58594062]])"
      ]
     },
     "execution_count": 24,
     "metadata": {},
     "output_type": "execute_result"
    }
   ],
   "source": [
    "# Predicting new result with Polynomial Linear Regression\n",
    "linreg_poly.predict(polyreg.fit_transform([[6.5]]))"
   ]
  },
  {
   "cell_type": "code",
   "execution_count": null,
   "id": "c2220460",
   "metadata": {},
   "outputs": [],
   "source": []
  },
  {
   "cell_type": "code",
   "execution_count": null,
   "id": "0ea28203",
   "metadata": {},
   "outputs": [],
   "source": []
  },
  {
   "cell_type": "code",
   "execution_count": null,
   "id": "c5e4d884",
   "metadata": {},
   "outputs": [],
   "source": []
  },
  {
   "cell_type": "code",
   "execution_count": null,
   "id": "6c0da7ba",
   "metadata": {},
   "outputs": [],
   "source": []
  },
  {
   "cell_type": "code",
   "execution_count": null,
   "id": "4c34fc10",
   "metadata": {},
   "outputs": [],
   "source": []
  },
  {
   "cell_type": "code",
   "execution_count": null,
   "id": "0ca87358",
   "metadata": {},
   "outputs": [],
   "source": []
  },
  {
   "cell_type": "code",
   "execution_count": null,
   "id": "3e88e53e",
   "metadata": {},
   "outputs": [],
   "source": []
  },
  {
   "cell_type": "code",
   "execution_count": null,
   "id": "ee74909b",
   "metadata": {},
   "outputs": [],
   "source": []
  },
  {
   "cell_type": "code",
   "execution_count": null,
   "id": "7e570a53",
   "metadata": {},
   "outputs": [],
   "source": []
  },
  {
   "cell_type": "code",
   "execution_count": null,
   "id": "4d076ee2",
   "metadata": {},
   "outputs": [],
   "source": []
  },
  {
   "cell_type": "code",
   "execution_count": null,
   "id": "a04f02df",
   "metadata": {},
   "outputs": [],
   "source": []
  },
  {
   "cell_type": "code",
   "execution_count": null,
   "id": "961d29af",
   "metadata": {},
   "outputs": [],
   "source": []
  },
  {
   "cell_type": "code",
   "execution_count": null,
   "id": "18f658dd",
   "metadata": {},
   "outputs": [],
   "source": []
  }
 ],
 "metadata": {
  "kernelspec": {
   "display_name": "Python 3 (ipykernel)",
   "language": "python",
   "name": "python3"
  },
  "language_info": {
   "codemirror_mode": {
    "name": "ipython",
    "version": 3
   },
   "file_extension": ".py",
   "mimetype": "text/x-python",
   "name": "python",
   "nbconvert_exporter": "python",
   "pygments_lexer": "ipython3",
   "version": "3.9.12"
  }
 },
 "nbformat": 4,
 "nbformat_minor": 5
}
